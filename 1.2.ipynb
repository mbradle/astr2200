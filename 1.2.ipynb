{
 "cells": [
  {
   "cell_type": "markdown",
   "metadata": {},
   "source": [
    "This notebook solves problem 1.2.  Begin by importing relevant packages."
   ]
  },
  {
   "cell_type": "code",
   "execution_count": 1,
   "metadata": {},
   "outputs": [],
   "source": [
    "import numpy as np"
   ]
  },
  {
   "cell_type": "markdown",
   "metadata": {},
   "source": [
    "Define a routine to compute the rotational angular momentum of a planetary body (assuming a uniform density sphere).  This angular momentum is given by $L = \\frac{2}{5} M R^2 \\omega$, where the angular velocity = $2\\pi / P$, with $P$ the rotational period of the object."
   ]
  },
  {
   "cell_type": "code",
   "execution_count": 2,
   "metadata": {},
   "outputs": [],
   "source": [
    "def L_rotational(object):\n",
    "    return 2. * np.pi * (2./5.) * object['mass'] * object['R']**2 / abs(object['P_sidereal'])"
   ]
  },
  {
   "cell_type": "markdown",
   "metadata": {},
   "source": [
    "Now define a routine to compute the orbital angular momentum (assuming a circular orbit).  This angular momentum is given by $L = r m v$, where $r$ is the radius of the orbit, $m$ is the mass of the orbiting body, and $v$ is the speed of the body.  Since $v = 2\\pi r / P$, where $P$ is the orbital period, $L = 2\\pi m r^2 / P$."
   ]
  },
  {
   "cell_type": "code",
   "execution_count": 3,
   "metadata": {},
   "outputs": [],
   "source": [
    "def L_orbital(object):\n",
    "    return 2 * np.pi * object['mass'] * object['a']**2 / abs(object['P_orbit'])"
   ]
  },
  {
   "cell_type": "markdown",
   "metadata": {},
   "source": [
    "Define some convenience conversion factors to convert Astronomical units to $km$ and days and years to $hrs$."
   ]
  },
  {
   "cell_type": "code",
   "execution_count": 4,
   "metadata": {},
   "outputs": [],
   "source": [
    "AU = 1.5e8\n",
    "d = 24\n",
    "yr = 365.24 * d"
   ]
  },
  {
   "cell_type": "markdown",
   "metadata": {},
   "source": [
    "Create a dictionary of data for the Sun.  In this notebook, all distances will be in $km$, all masses in $kg$, and all times in $hrs$."
   ]
  },
  {
   "cell_type": "code",
   "execution_count": 5,
   "metadata": {},
   "outputs": [],
   "source": [
    "Sun = {'R': 7.0e5, 'mass': 1.9890e30, 'P_sidereal': 609.6}"
   ]
  },
  {
   "cell_type": "markdown",
   "metadata": {},
   "source": [
    "Define a dictionary of data for the planets."
   ]
  },
  {
   "cell_type": "code",
   "execution_count": 6,
   "metadata": {},
   "outputs": [],
   "source": [
    "planets = {}\n",
    "\n",
    "planets['Mercury'] = {'a': 0.3871 * AU, 'R': 2440, 'mass': 0.3302e24, 'P_sidereal': 1407.5088, 'P_orbit': 0.2408844 * yr}\n",
    "planets['Venus'] = {'a': 0.7233 * AU, 'R': 6051.8, 'mass': 4.8685e24, 'P_sidereal': -5832.444, 'P_orbit': 0.615182 * yr}\n",
    "planets['Earth'] = {'a': 1.0000 * AU, 'R': 6371.0, 'mass': 5.9735e24, 'P_sidereal': 23.934, 'P_orbit': 1 * yr}\n",
    "planets['Mars'] = {'a': 1.523 * AU, 'R': 3389.9, 'mass': 0.64185e24, 'P_sidereal': 24.622962, 'P_orbit': 1.880711 * yr}\n",
    "planets['Jupiter'] = {'a': 5.203 * AU, 'R': 71492, 'mass': 1898.6e24, 'P_sidereal': 9.9249, 'P_orbit': 11.856 * yr}\n",
    "planets['Saturn'] = {'a': 9.543 * AU, 'R': 60268, 'mass': 568.46e24, 'P_sidereal': 10.5431, 'P_orbit': 29.423519 * yr}\n",
    "planets['Uranus'] = {'a': 19.192 * AU, 'R': 25559, 'mass': 86.832e24, 'P_sidereal': -17.2333, 'P_orbit': 83.747407 * yr}\n",
    "planets['Neptune'] = {'a': 30.069 * AU, 'R': 24766, 'mass': 102.43e24, 'P_sidereal': 16, 'P_orbit': 163.72321 * yr}"
   ]
  },
  {
   "cell_type": "markdown",
   "metadata": {},
   "source": [
    "Create a dictionary for the moons of Jupiter, Saturn, and Uranus."
   ]
  },
  {
   "cell_type": "code",
   "execution_count": 7,
   "metadata": {},
   "outputs": [],
   "source": [
    "moons = {}"
   ]
  },
  {
   "cell_type": "markdown",
   "metadata": {},
   "source": [
    "Create a dictionary of data for the moons of Jupiter."
   ]
  },
  {
   "cell_type": "code",
   "execution_count": 8,
   "metadata": {},
   "outputs": [],
   "source": [
    "moons['Jupiter'] = {}\n",
    "\n",
    "moons['Jupiter']['Io'] = {'mass': 893.3e20, 'a': 421.77e3, 'P_orbit': 1.769138 * d}\n",
    "moons['Jupiter']['Europa'] = {'mass': 479.7e20, 'a': 671.08e3, 'P_orbit': 3.55181 * d}\n",
    "moons['Jupiter']['Ganymede'] = {'mass': 1482e20, 'a': 1070.4e3, 'P_orbit': 7.154553 * d}\n",
    "moons['Jupiter']['Callisto'] = {'mass': 1076e20, 'a': 1882.8e3, 'P_orbit': 16.689018 * d}\n",
    "moons['Jupiter']['Himalia'] = {'mass': 0.042e20, 'a': 11460e3, 'P_orbit': 251 * d}"
   ]
  },
  {
   "cell_type": "markdown",
   "metadata": {},
   "source": [
    "Create a dictionary of data for the moons of Saturn."
   ]
  },
  {
   "cell_type": "code",
   "execution_count": 9,
   "metadata": {},
   "outputs": [],
   "source": [
    "moons['Saturn'] = {}\n",
    "\n",
    "moons['Saturn']['Pan'] = {'mass': 5.e-5 * 1.e20, 'a': 133.584e3, 'P_orbit': 0.57505 * d}\n",
    "moons['Saturn']['Daphnis'] = {'mass': 8.e-7 * 1.e20, 'a': 136.51e3, 'P_orbit': 0.59408 * d}\n",
    "moons['Saturn']['Atlas'] = {'mass': 7e-5 * 1.e20, 'a': 137.670e3, 'P_orbit': 0.60169 * d}\n",
    "moons['Saturn']['Prometheus'] = {'mass': 0.0016 * 1.e20, 'a': 139.380e3, 'P_orbit': 0.612986 * d}\n",
    "moons['Saturn']['Pandora'] = {'mass': 0.00137 * 1.e20, 'a': 141.710e3, 'P_orbit': 0.628804 * d}\n",
    "moons['Saturn']['Epimetheus'] = {'mass': 0.00527 * 1.e20, 'a': 151.47e3, 'P_orbit': 0.694590 * d}\n",
    "moons['Saturn']['Janus'] = {'mass': 0.019 * 1.e20, 'a': 151.47e3, 'P_orbit': 0.694590 * d}\n",
    "moons['Saturn']['Mimas'] = {'mass': 0.38 * 1.e20, 'a': 185.52e3, 'P_orbit': 0.942421 * d}\n",
    "moons['Saturn']['Enceladus'] = {'mass': 0.65 * 1.e20, 'a': 238.02e3, 'P_orbit': 1.370218 * d}\n",
    "moons['Saturn']['Tethys'] = {'mass': 6.27 * 1.e20, 'a': 294.66e3, 'P_orbit': 1.887802 * d}\n",
    "moons['Saturn']['Dione'] = {'mass': 11.0 * 1.e20, 'a': 377.71e3, 'P_orbit': 2.736915 * d}\n",
    "moons['Saturn']['Rhea'] = {'mass': 23.1 * 1.e20, 'a': 527.04e3, 'P_orbit': 4.517500 * d}\n",
    "moons['Saturn']['Titan'] = {'mass': 1345.7 * 1.e20, 'a': 1221.85e3, 'P_orbit': 15.945421 * d}\n",
    "moons['Saturn']['Hyperion'] = {'mass': 0.056 * 1.e20, 'a': 1481.1e3, 'P_orbit': 21.276609 * d}\n",
    "moons['Saturn']['Iapetus'] = {'mass': 18.1 * 1.e20, 'a': 3561.3e3, 'P_orbit': 79.330183 * d}\n",
    "moons['Saturn']['Phoebe'] = {'mass': 0.083 * 1.e20, 'a': 12952e3, 'P_orbit': 550.48 * d}"
   ]
  },
  {
   "cell_type": "markdown",
   "metadata": {},
   "source": [
    "Create a dictionary of data for the moons of Uranus."
   ]
  },
  {
   "cell_type": "code",
   "execution_count": 10,
   "metadata": {},
   "outputs": [],
   "source": [
    "moons['Uranus'] = {}\n",
    "\n",
    "moons['Uranus']['Miranda'] = {'mass': 0.659e20, 'a': 129.8e3, 'P_orbit': 1.413 * d}\n",
    "moons['Uranus']['Ariel'] = {'mass': 13.53e20, 'a': 191.2e3, 'P_orbit': 2.520 * d}\n",
    "moons['Uranus']['Umbriel'] = {'mass': 11.72e20, 'a': 266.0e3, 'P_orbit': 4.144 * d}\n",
    "moons['Uranus']['Titania'] = {'mass': 35.27e20, 'a': 435.8e3, 'P_orbit': 8.706 * d}\n",
    "moons['Uranus']['Oberon'] = {'mass': 30.14e20, 'a': 582.6e3, 'P_orbit': 13.463 * d}"
   ]
  },
  {
   "cell_type": "markdown",
   "metadata": {},
   "source": [
    "Compute the ratio of the sum of the masses of the planets to that of the Sun.  This is part of 1.2(a)."
   ]
  },
  {
   "cell_type": "code",
   "execution_count": 11,
   "metadata": {},
   "outputs": [
    {
     "name": "stdout",
     "output_type": "stream",
     "text": [
      "Mass of the planets / Mass of the Sun = 1.341e-03\n"
     ]
    }
   ],
   "source": [
    "m_planets = 0\n",
    "\n",
    "for planet in planets:\n",
    "    m_planets += planets[planet]['mass']\n",
    "    \n",
    "print('Mass of the planets / Mass of the Sun = {:.3e}'.format(m_planets / Sun['mass']))"
   ]
  },
  {
   "cell_type": "markdown",
   "metadata": {},
   "source": [
    "Compute the ratio of the sum of the masses of the moons of Jupiter, Saturn, and Uranus to the mass of the respective planet.  This is part of 1.2(a)."
   ]
  },
  {
   "cell_type": "code",
   "execution_count": 12,
   "metadata": {},
   "outputs": [
    {
     "name": "stdout",
     "output_type": "stream",
     "text": [
      "Mass of the moons of Jupiter / Mass of Jupiter = 2.070e-04\n",
      "Mass of the moons of Saturn / Mass of Saturn = 2.472e-04\n",
      "Mass of the moons of Uranus / Mass of Uranus = 1.052e-04\n"
     ]
    }
   ],
   "source": [
    "for planet in ['Jupiter', 'Saturn', 'Uranus']:    \n",
    "    m_moons = 0\n",
    "    \n",
    "    for moon in moons[planet]:\n",
    "        m_moons += moons[planet][moon]['mass']\n",
    "    \n",
    "    print('Mass of the moons of {:s} / Mass of {:s} = {:.3e}'.format(planet, planet,\n",
    "                                                                     m_moons / planets[planet]['mass']))"
   ]
  },
  {
   "cell_type": "markdown",
   "metadata": {},
   "source": [
    "Calculate the ratio of the sum of orbital angular momenta of the planets to the rotational angular momentum of the Sun.  This is 1.2(b)."
   ]
  },
  {
   "cell_type": "code",
   "execution_count": 13,
   "metadata": {},
   "outputs": [
    {
     "name": "stdout",
     "output_type": "stream",
     "text": [
      "L(Mercury) = 3.31e+36 kg-km^2/h, 0.00% of total\n",
      "L(Venus) = 6.68e+37 kg-km^2/h, 0.06% of total\n",
      "L(Earth) = 9.63e+37 kg-km^2/h, 0.08% of total\n",
      "L(Mars) = 1.28e+37 kg-km^2/h, 0.01% of total\n",
      "L(Jupiter) = 6.99e+40 kg-km^2/h, 61.46% of total\n",
      "L(Saturn) = 2.84e+40 kg-km^2/h, 24.95% of total\n",
      "L(Uranus) = 6.16e+39 kg-km^2/h, 5.41% of total\n",
      "L(Neptune) = 9.12e+39 kg-km^2/h, 8.02% of total\n",
      "L(Sun) = 4.02e+39 kg-km^2/h\n",
      "\n",
      "L(planets) = 1.14e+41 kg-km^2/h\n",
      "\n",
      "L(planets) / L(Sun) = 28.309770\n"
     ]
    }
   ],
   "source": [
    "L_planets = 0\n",
    "L = {}\n",
    "\n",
    "for planet in planets:\n",
    "    L[planet] = L_orbital(planets[planet])\n",
    "    L_planets += L[planet]\n",
    "    \n",
    "for planet in planets:\n",
    "    print('L({:s}) = {:.2e} kg-km^2/h, {:.2f}% of total'.format(planet, L[planet], 100 * L[planet]/L_planets))\n",
    "    \n",
    "L_Sun = L_rotational(Sun)\n",
    "print('L(Sun) = {:.2e} kg-km^2/h'.format(L_Sun))\n",
    "\n",
    "print('\\nL(planets) = {:.2e} kg-km^2/h'.format(L_planets))\n",
    "print('\\nL(planets) / L(Sun) = {:f}'.format(L_planets/L_Sun))"
   ]
  },
  {
   "cell_type": "markdown",
   "metadata": {},
   "source": [
    "Calculate the sum of the orbital angular momentum of the moons of Jupiter, Saturn, and Uranus about their respective planets.  This is 1.2(c)."
   ]
  },
  {
   "cell_type": "code",
   "execution_count": 14,
   "metadata": {},
   "outputs": [
    {
     "name": "stdout",
     "output_type": "stream",
     "text": [
      "\n",
      " Jupiter :\n",
      "\n",
      "L(Io) = 2.35e+33 kg-km^2/h, 14.57% of total\n",
      "L(Europa) = 1.59e+33 kg-km^2/h, 9.86% of total\n",
      "L(Ganymede) = 6.21e+33 kg-km^2/h, 38.49% of total\n",
      "L(Callisto) = 5.98e+33 kg-km^2/h, 37.07% of total\n",
      "L(Himalia) = 5.75e+29 kg-km^2/h, 0.00% of total\n",
      "\n",
      "L(moons) = 1.61e+34 kg-km^2/h\n",
      "\n",
      "L(moons) / L(Jupiter) = 0.006569\n",
      "\n",
      " Saturn :\n",
      "\n",
      "L(Pan) = 4.06e+25 kg-km^2/h, 0.00% of total\n",
      "L(Daphnis) = 6.57e+23 kg-km^2/h, 0.00% of total\n",
      "L(Atlas) = 5.77e+25 kg-km^2/h, 0.00% of total\n",
      "L(Prometheus) = 1.33e+27 kg-km^2/h, 0.00% of total\n",
      "L(Pandora) = 1.15e+27 kg-km^2/h, 0.00% of total\n",
      "L(Epimetheus) = 4.56e+27 kg-km^2/h, 0.00% of total\n",
      "L(Janus) = 1.64e+28 kg-km^2/h, 0.00% of total\n",
      "L(Mimas) = 3.63e+29 kg-km^2/h, 0.01% of total\n",
      "L(Enceladus) = 7.04e+29 kg-km^2/h, 0.02% of total\n",
      "L(Tethys) = 7.55e+30 kg-km^2/h, 0.22% of total\n",
      "L(Dione) = 1.50e+31 kg-km^2/h, 0.44% of total\n",
      "L(Rhea) = 3.72e+31 kg-km^2/h, 1.08% of total\n",
      "L(Titan) = 3.30e+33 kg-km^2/h, 96.00% of total\n",
      "L(Hyperion) = 1.51e+29 kg-km^2/h, 0.00% of total\n",
      "L(Iapetus) = 7.58e+31 kg-km^2/h, 2.20% of total\n",
      "L(Phoebe) = 6.62e+29 kg-km^2/h, 0.02% of total\n",
      "\n",
      "L(moons) = 3.44e+33 kg-km^2/h\n",
      "\n",
      "L(moons) / L(Saturn) = 0.006981\n",
      "\n",
      " Uranus :\n",
      "\n",
      "L(Miranda) = 2.06e+29 kg-km^2/h, 0.41% of total\n",
      "L(Ariel) = 5.14e+30 kg-km^2/h, 10.15% of total\n",
      "L(Umbriel) = 5.24e+30 kg-km^2/h, 10.35% of total\n",
      "L(Titania) = 2.01e+31 kg-km^2/h, 39.79% of total\n",
      "L(Oberon) = 1.99e+31 kg-km^2/h, 39.30% of total\n",
      "\n",
      "L(moons) = 5.06e+31 kg-km^2/h\n",
      "\n",
      "L(moons) / L(Uranus) = 0.006119\n"
     ]
    }
   ],
   "source": [
    "for planet in ['Jupiter', 'Saturn', 'Uranus']:\n",
    "    print('\\n', planet, ':\\n')\n",
    "    L_r = L_rotational(planets[planet])\n",
    "    \n",
    "    L_moons = 0\n",
    "    L = {}\n",
    "\n",
    "    for moon in moons[planet]:\n",
    "        L[moon] = L_orbital(moons[planet][moon])\n",
    "        L_moons += L[moon]\n",
    "    \n",
    "    for moon in moons[planet]:\n",
    "        print('L({:s}) = {:.2e} kg-km^2/h, {:.2f}% of total'.format(moon, L[moon], 100 * L[moon]/L_moons))\n",
    "\n",
    "    print('\\nL(moons) = {:.2e} kg-km^2/h'.format(L_moons))\n",
    "    print('\\nL(moons) / L({:s}) = {:f}'.format(planet, L_moons/L_r))\n",
    "    "
   ]
  },
  {
   "cell_type": "markdown",
   "metadata": {},
   "source": [
    "Compute the orbital semimajor axes of the planets to the Sun's radius.  This is part of 1.2(d)."
   ]
  },
  {
   "cell_type": "code",
   "execution_count": 15,
   "metadata": {},
   "outputs": [
    {
     "name": "stdout",
     "output_type": "stream",
     "text": [
      "a(Mercury) / R(Sun) = 8.30e+01\n",
      "a(Venus) / R(Sun) = 1.55e+02\n",
      "a(Earth) / R(Sun) = 2.14e+02\n",
      "a(Mars) / R(Sun) = 3.26e+02\n",
      "a(Jupiter) / R(Sun) = 1.11e+03\n",
      "a(Saturn) / R(Sun) = 2.04e+03\n",
      "a(Uranus) / R(Sun) = 4.11e+03\n",
      "a(Neptune) / R(Sun) = 6.44e+03\n"
     ]
    }
   ],
   "source": [
    "for planet in planets:\n",
    "    print('a({:s}) / R(Sun) = {:.2e}'.format(planet, planets[planet]['a'] / Sun['R']))"
   ]
  },
  {
   "cell_type": "markdown",
   "metadata": {},
   "source": [
    "Compute the orbital semimajor axes of the moons of Jupiter, Saturn, and Uranus to the radius of their respective planets.  This is part of 1.2(d)."
   ]
  },
  {
   "cell_type": "code",
   "execution_count": 16,
   "metadata": {},
   "outputs": [
    {
     "name": "stdout",
     "output_type": "stream",
     "text": [
      "\n",
      " Jupiter :\n",
      "\n",
      "a(Io) / R(Jupiter) = 5.90e+00\n",
      "a(Europa) / R(Jupiter) = 9.39e+00\n",
      "a(Ganymede) / R(Jupiter) = 1.50e+01\n",
      "a(Callisto) / R(Jupiter) = 2.63e+01\n",
      "a(Himalia) / R(Jupiter) = 1.60e+02\n",
      "\n",
      " Saturn :\n",
      "\n",
      "a(Pan) / R(Saturn) = 2.22e+00\n",
      "a(Daphnis) / R(Saturn) = 2.27e+00\n",
      "a(Atlas) / R(Saturn) = 2.28e+00\n",
      "a(Prometheus) / R(Saturn) = 2.31e+00\n",
      "a(Pandora) / R(Saturn) = 2.35e+00\n",
      "a(Epimetheus) / R(Saturn) = 2.51e+00\n",
      "a(Janus) / R(Saturn) = 2.51e+00\n",
      "a(Mimas) / R(Saturn) = 3.08e+00\n",
      "a(Enceladus) / R(Saturn) = 3.95e+00\n",
      "a(Tethys) / R(Saturn) = 4.89e+00\n",
      "a(Dione) / R(Saturn) = 6.27e+00\n",
      "a(Rhea) / R(Saturn) = 8.74e+00\n",
      "a(Titan) / R(Saturn) = 2.03e+01\n",
      "a(Hyperion) / R(Saturn) = 2.46e+01\n",
      "a(Iapetus) / R(Saturn) = 5.91e+01\n",
      "a(Phoebe) / R(Saturn) = 2.15e+02\n",
      "\n",
      " Uranus :\n",
      "\n",
      "a(Miranda) / R(Uranus) = 5.08e+00\n",
      "a(Ariel) / R(Uranus) = 7.48e+00\n",
      "a(Umbriel) / R(Uranus) = 1.04e+01\n",
      "a(Titania) / R(Uranus) = 1.71e+01\n",
      "a(Oberon) / R(Uranus) = 2.28e+01\n"
     ]
    }
   ],
   "source": [
    "for planet in ['Jupiter', 'Saturn', 'Uranus']:\n",
    "    print('\\n', planet, ':\\n')\n",
    "    \n",
    "    for moon in moons[planet]:\n",
    "        print('a({:s}) / R({:s}) = {:.2e}'.format(moon, planet, moons[planet][moon]['a'] / planets[planet]['R']))"
   ]
  },
  {
   "cell_type": "markdown",
   "metadata": {},
   "source": [
    "From this problem, one can see some interesting similarities and differences between the Solar System and the moon systems of the giant planets.  The moons of the giant planets make up less of the total mass of the planet-moons system than do the planets in the Sun-planets system, although the numbers are of the same order of magnitude.  The planets' orbitial angular momentum carries the majority of the angular momentum in the Solar System, while the planet's rotational angular momentum carries the majority of the angular momentum in each of the giant planet planet-moons system.  Finally, it is clear that the planet-moons systems are more compact relative to the central body than the Solar System."
   ]
  },
  {
   "cell_type": "code",
   "execution_count": null,
   "metadata": {},
   "outputs": [],
   "source": []
  }
 ],
 "metadata": {
  "kernelspec": {
   "display_name": "Python 3",
   "language": "python",
   "name": "python3"
  },
  "language_info": {
   "codemirror_mode": {
    "name": "ipython",
    "version": 3
   },
   "file_extension": ".py",
   "mimetype": "text/x-python",
   "name": "python",
   "nbconvert_exporter": "python",
   "pygments_lexer": "ipython3",
   "version": "3.7.10"
  }
 },
 "nbformat": 4,
 "nbformat_minor": 4
}
