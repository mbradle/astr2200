{
 "cells": [
  {
   "cell_type": "markdown",
   "metadata": {},
   "source": [
    "This notebook plots orbits for the Kepler problem.  Begin by importing relevant packages."
   ]
  },
  {
   "cell_type": "code",
   "execution_count": 1,
   "metadata": {},
   "outputs": [],
   "source": [
    "import numpy as np\n",
    "import matplotlib.pyplot as plt"
   ]
  },
  {
   "cell_type": "markdown",
   "metadata": {},
   "source": [
    "Define a routine to compute the coordinates of the object in its orbit given the eccentricity.  Only include the positive branch of the radial coordinate."
   ]
  },
  {
   "cell_type": "code",
   "execution_count": 2,
   "metadata": {},
   "outputs": [],
   "source": [
    "def calc_xy(e):\n",
    "    thetas = np.linspace(-np.pi, np.pi, 500)\n",
    "\n",
    "    x = []\n",
    "    y = []\n",
    "    for theta in thetas:\n",
    "        r = (1 + e) / (1 + e * np.cos(theta) + 1.e-300)\n",
    "        if r > 0 and not np.isnan(r):\n",
    "            x.append(r * np.cos(theta))\n",
    "            y.append(r * np.sin(theta))\n",
    "\n",
    "    return (x,y)"
   ]
  },
  {
   "cell_type": "markdown",
   "metadata": {},
   "source": [
    "Set the parameter $\\alpha$.  $\\alpha = E / (GMm / r_p)$, so it gives the ratio of the energy to the magnitude of the gravitational potential energy at closest approach.  $\\alpha$ is negative if the total energy is negative (so that the orbit is bound).  This cell checks the input and prints out the resulting eccentricity."
   ]
  },
  {
   "cell_type": "code",
   "execution_count": 3,
   "metadata": {},
   "outputs": [
    {
     "name": "stdout",
     "output_type": "stream",
     "text": [
      "The eccentricity e = 0.5000.\n"
     ]
    }
   ],
   "source": [
    "alpha = -0.25\n",
    "\n",
    "beta = 2. * (1. + alpha)\n",
    "            \n",
    "assert(alpha >= -0.5 and 1 + 4. * alpha * (1. + alpha )>= 0)\n",
    "e = np.sqrt(1. + 4. * alpha * (1. + alpha))\n",
    "print('The eccentricity e = {:.4f}.'.format(e))"
   ]
  },
  {
   "cell_type": "markdown",
   "metadata": {},
   "source": [
    "Now compute and plot the orbit.  If the orbit is bound, the cell adjusts the axis limits to include the whole orbit."
   ]
  },
  {
   "cell_type": "code",
   "execution_count": 4,
   "metadata": {},
   "outputs": [
    {
     "data": {
      "image/png": "[encoded data removed]",
      "text/plain": [
       "<Figure size 432x288 with 1 Axes>"
      ]
     },
     "metadata": {
      "needs_background": "light"
     },
     "output_type": "display_data"
    }
   ],
   "source": [
    "x, y = calc_xy(e)\n",
    "\n",
    "fig = plt.figure()\n",
    "ax = fig.add_subplot(111)\n",
    "\n",
    "plt.plot(x, y)\n",
    "plt.plot([0,0], [0,0], '.')\n",
    "\n",
    "m = 4\n",
    "\n",
    "if e < 1:\n",
    "    if np.max(x) >= 4:\n",
    "        m = 1.1 * np.max(x)\n",
    "\n",
    "    if np.min(x) <= -4:\n",
    "        m = -1.1 * np.min(x)\n",
    "        \n",
    "plt.xlim(-m, m)\n",
    "plt.ylim(-m, m)\n",
    "\n",
    "ax.set_aspect('equal', adjustable='box')"
   ]
  },
  {
   "cell_type": "markdown",
   "metadata": {},
   "source": [
    "Plot the scaled total energy ($E / (GMm/r_p)$) and the scaled effective potential energy $U_{eff} = \\frac{1}{2} \\beta \\left(\\frac{r_p}{r}\\right)^2 - \\left(\\frac{r_p}{r}\\right)$, where $\\beta = (L^2/(2mr_p^2))/(GMm/r_p))$ is the scaled angular momentum kinetic energy."
   ]
  },
  {
   "cell_type": "code",
   "execution_count": 5,
   "metadata": {},
   "outputs": [
    {
     "data": {
      "image/png": "[encoded data removed]",
      "text/plain": [
       "<Figure size 432x288 with 1 Axes>"
      ]
     },
     "metadata": {
      "needs_background": "light"
     },
     "output_type": "display_data"
    }
   ],
   "source": [
    "beta = 2. * (1. + alpha)\n",
    "if alpha > 0:\n",
    "    zl = np.power(1./beta + np.sqrt(1 + 4. * beta * alpha) / beta, -1)\n",
    "else:\n",
    "    zl = np.power(1./beta + np.sqrt(1 + beta) / beta, -1)\n",
    "    \n",
    "zu = np.power(1./beta - np.sqrt(1 - 0.2 * beta) / beta, -1)\n",
    "        \n",
    "z = np.linspace(zl, zu, 1000)\n",
    "plt.plot(z, 0.5 * beta / z**2 - 1. / z, label = '$U_{eff}$')\n",
    "plt.plot([0,1.1*zu], [alpha, alpha], label = '$\\\\alpha$')\n",
    "\n",
    "yl = 1.1 * (0.5 / beta**2 - 1. / beta)\n",
    "yu = 0.5 * beta / zl**2 - 1. / zl\n",
    "\n",
    "plt.xlim([0, zu])\n",
    "plt.ylim([yl, yu])\n",
    "plt.xlabel('$r / r_p$')\n",
    "plt.ylabel('Energy (in units of $GMm/r_p$)')\n",
    "plt.legend()\n",
    "plt.show()"
   ]
  },
  {
   "cell_type": "code",
   "execution_count": null,
   "metadata": {},
   "outputs": [],
   "source": []
  }
 ],
 "metadata": {
  "kernelspec": {
   "display_name": "Python 3",
   "language": "python",
   "name": "python3"
  },
  "language_info": {
   "codemirror_mode": {
    "name": "ipython",
    "version": 3
   },
   "file_extension": ".py",
   "mimetype": "text/x-python",
   "name": "python",
   "nbconvert_exporter": "python",
   "pygments_lexer": "ipython3",
   "version": "3.7.10"
  }
 },
 "nbformat": 4,
 "nbformat_minor": 4
}
